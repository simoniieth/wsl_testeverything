{
 "cells": [
  {
   "cell_type": "code",
   "execution_count": 2,
   "metadata": {},
   "outputs": [
    {
     "name": "stdout",
     "output_type": "stream",
     "text": [
      "   Stock1  Stock2  Stock3\n",
      "0   100.0    50.0    30.0\n",
      "1   102.0     NaN    31.0\n",
      "2     NaN    52.0     NaN\n",
      "3   105.0    54.0    33.0\n",
      "4   107.0    56.0    34.0\n",
      "5   110.0     NaN    35.0\n",
      "6     NaN    60.0    37.0\n",
      "7   115.0    62.0     NaN\n",
      "8   118.0    65.0    40.0\n",
      "     Stock1    Stock2    Stock3\n",
      "1  0.020000  0.000000  0.033333\n",
      "2  0.000000  0.040000  0.000000\n",
      "3  0.029412  0.038462  0.064516\n",
      "4  0.019048  0.037037  0.030303\n",
      "5  0.028037  0.000000  0.029412\n",
      "6  0.000000  0.071429  0.057143\n",
      "7  0.045455  0.033333  0.000000\n",
      "8  0.026087  0.048387  0.081081\n",
      "     Stock1    Stock2    Stock3\n",
      "1  0.020000  0.000000  0.033333\n",
      "2  0.008000  0.024000  0.013333\n",
      "3  0.018142  0.030850  0.037578\n",
      "4  0.018518  0.033420  0.034556\n",
      "5  0.022173  0.020591  0.032581\n",
      "6  0.014070  0.039167  0.041556\n",
      "7  0.025182  0.037102  0.026843\n",
      "8  0.025496  0.041016  0.045656\n",
      "EWMA Covariance Matrix of Returns:\n",
      "          Stock1    Stock2    Stock3\n",
      "Stock1  0.000034  0.000010  0.000030\n",
      "Stock2  0.000010  0.000181  0.000043\n",
      "Stock3  0.000030  0.000043  0.000097\n"
     ]
    },
    {
     "name": "stderr",
     "output_type": "stream",
     "text": [
      "/tmp/ipykernel_599096/2085661168.py:15: FutureWarning: The default fill_method='pad' in DataFrame.pct_change is deprecated and will be removed in a future version. Either fill in any non-leading NA values prior to calling pct_change or specify 'fill_method=None' to not fill NA values.\n",
      "  returns = df.pct_change().dropna(how='all')\n"
     ]
    }
   ],
   "source": [
    "import numpy as np\n",
    "import pandas as pd\n",
    "\n",
    "# Sample stock price data\n",
    "data = {\n",
    "    'Stock1': [100, 102, np.nan, 105, 107, 110, np.nan, 115, 118],\n",
    "    'Stock2': [50, np.nan, 52, 54, 56, np.nan, 60, 62, 65],\n",
    "    'Stock3': [30, 31, np.nan, 33, 34, 35, 37, np.nan, 40]\n",
    "}\n",
    "\n",
    "# Convert to DataFrame\n",
    "df = pd.DataFrame(data)\n",
    "print(df)\n",
    "# Calculate daily returns\n",
    "returns = df.pct_change().dropna(how='all')\n",
    "print(returns)\n",
    "# Calculate EWMA returns for each stock\n",
    "ewma_returns = returns.ewm(span=5, min_periods=1).mean()\n",
    "print(ewma_returns)\n",
    "# Calculate pairwise covariance of EWMA returns\n",
    "cov_matrix = ewma_returns.cov(min_periods=1)\n",
    "\n",
    "print(\"EWMA Covariance Matrix of Returns:\")\n",
    "print(cov_matrix)\n"
   ]
  }
 ],
 "metadata": {
  "kernelspec": {
   "display_name": "base",
   "language": "python",
   "name": "python3"
  },
  "language_info": {
   "codemirror_mode": {
    "name": "ipython",
    "version": 3
   },
   "file_extension": ".py",
   "mimetype": "text/x-python",
   "name": "python",
   "nbconvert_exporter": "python",
   "pygments_lexer": "ipython3",
   "version": "3.11.5"
  }
 },
 "nbformat": 4,
 "nbformat_minor": 2
}
